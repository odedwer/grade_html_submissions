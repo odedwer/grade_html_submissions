{
  "nbformat": 4,
  "nbformat_minor": 0,
  "metadata": {
    "colab": {
      "provenance": []
    },
    "kernelspec": {
      "name": "python3",
      "display_name": "Python 3"
    },
    "language_info": {
      "name": "python"
    }
  },
  "cells": [
    {
      "cell_type": "markdown",
      "source": [
        "**Group Details:**\n",
        "\n",
        "- Name: ID:\n",
        "- Name: ID:\n",
        "- Name: ID:"
      ],
      "metadata": {
        "id": "FUQrY1wdjGWK"
      }
    },
    {
      "cell_type": "code",
      "execution_count": null,
      "metadata": {
        "id": "VWWxxTa1YYh-",
        "cellView": "form"
      },
      "outputs": [],
      "source": [
        "#@title Helper Functions and Imports\n",
        "\n",
        "from pydrive2.auth import GoogleAuth\n",
        "from google.colab import drive\n",
        "from pydrive2.drive import GoogleDrive\n",
        "from google.colab import auth\n",
        "from oauth2client.client import GoogleCredentials\n",
        "import pandas as pd\n",
        "import seaborn as sns\n",
        "from matplotlib import pyplot as plt\n",
        "import matplotlib as mpl\n",
        "import numpy as np\n",
        "from scipy.stats import pearsonr, spearmanr\n",
        "\n",
        "# Some visual settings\n",
        "sns.set()\n",
        "mpl.rcParams['xtick.labelsize'] = 12\n",
        "mpl.rcParams['ytick.labelsize'] = 12\n",
        "mpl.rcParams['axes.labelsize'] = 14\n",
        "\n",
        "RENT_ID = '1R6v2uHpFyNb1z2DT0M_JHTUE3PHFFYmu'\n",
        "SOCIORANK_ID = '1gc57mT5zgIb-XeVsMfCphnWTRz1-dmLj'\n",
        "\n",
        "def load_df(drive_id, **load_kwargs):\n",
        "  auth.authenticate_user()\n",
        "  gauth = GoogleAuth()\n",
        "  gauth.credentials = GoogleCredentials.get_application_default()\n",
        "  drive = GoogleDrive(gauth)\n",
        "  download = drive.CreateFile({'id': drive_id})\n",
        "  filename = '{}.csv'.format(drive_id)\n",
        "  download.GetContentFile(filename)\n",
        "  return pd.read_csv(filename, **load_kwargs)"
      ]
    },
    {
      "cell_type": "markdown",
      "source": [
        "# Introduction to Data Science - Lab \\#2\n",
        "\n",
        "## Exploratory Data Analysis"
      ],
      "metadata": {
        "id": "3Fub-of0es_K"
      }
    },
    {
      "cell_type": "markdown",
      "source": [
        "### Case Study: Rental Listings in Jerusalem\n",
        "In this lab we will practice our exploratory data analysis skills using real data!\n",
        "\n",
        "We will explore data of rental pricings in Jersualem.\n",
        "The dataset consists of listings published in https://www.komo.co.il/ during the summer of 2022."
      ],
      "metadata": {
        "id": "VTZmHaIf80m0"
      }
    },
    {
      "cell_type": "markdown",
      "source": [
        "We will use two python packages for visualizing the data: `matplotlib` (and specifically its submodule `pyplot` imported here as `plt`) and `seaborn` (imported as `sns`). Seaborn is a package that \"wraps\" matplotlib and introduces more convenient functions for quickly creating standard visualizations based on dataframes.\n",
        "\n",
        "Please **breifly** go over this [quick start guide](https://matplotlib.org/stable/tutorials/introductory/quick_start.html) to matplotlib, the [first](https://seaborn.pydata.org/tutorial/introduction.html) seaborn introduction page until the \"Multivariate views on complex datasets\" section (not included), and the [second](https://seaborn.pydata.org/tutorial/function_overview.html) introduction page until the \"Combining multiple views on the data\" section.\n",
        "\n"
      ],
      "metadata": {
        "id": "cyjt_ozdq7kQ"
      }
    },
    {
      "cell_type": "code",
      "source": [
        "#@title Loading the dataset\n",
        "rent_df = load_df(RENT_ID)[['propertyID','neighborhood','monthlyRate','mefarsem','rooms','floor','area','entry','description','numFloors']]\n",
        "rent_df = rent_df.drop_duplicates(subset='propertyID').reset_index(drop=True)\n",
        "rent_df_backup_for_exercise = rent_df.copy()\n",
        "clean_df_area_filtered = None\n",
        "clean_df = None"
      ],
      "metadata": {
        "id": "krch2ip9IJZI"
      },
      "execution_count": null,
      "outputs": []
    },
    {
      "cell_type": "markdown",
      "source": [
        "Let's print a random sample:"
      ],
      "metadata": {
        "id": "4_llARyTyG61"
      }
    },
    {
      "cell_type": "code",
      "source": [
        "np.random.seed(2)\n",
        "rent_df.sample(5)"
      ],
      "metadata": {
        "id": "H7RtjXQPv7Ca"
      },
      "execution_count": null,
      "outputs": []
    },
    {
      "cell_type": "markdown",
      "source": [
        "And print some summary statistics:"
      ],
      "metadata": {
        "id": "u46TBD1QyJAO"
      }
    },
    {
      "cell_type": "code",
      "source": [
        "rent_df.describe(include='all')"
      ],
      "metadata": {
        "id": "3csyec3cXn9L"
      },
      "execution_count": null,
      "outputs": []
    },
    {
      "cell_type": "markdown",
      "source": [
        "The variables we will focus on are:\n",
        "1. neighborhood: The hebrew name of the neighborhood in jerusalem where the listing is located\n",
        "2. monthlyRate: The monthly rate (שכר דירה) in shekels\n",
        "3. rooms: The number of rooms in the apartment\n",
        "4. floor: The floor in which the apartment is located\n",
        "5. area: The area of the apartment in squared meters\n",
        "6. numFloors: The total number of floors in the building"
      ],
      "metadata": {
        "id": "ahMuNpCXwYJd"
      }
    },
    {
      "cell_type": "markdown",
      "source": [
        "**What is the distribution of prices in this dataset?**\n",
        "\n",
        "Q: Plot a histogram with 30 bins of the monthly rates in this dataset:"
      ],
      "metadata": {
        "id": "W3Is1Je8yPTn"
      }
    },
    {
      "cell_type": "code",
      "source": [],
      "metadata": {
        "id": "PjXw5yMubhuU"
      },
      "execution_count": null,
      "outputs": []
    },
    {
      "cell_type": "code",
      "source": [
        "# @title Solution 1\n",
        "plt.figure(figsize=(8,6))\n",
        "sns.histplot(rent_df['monthlyRate'], bins=30)\n",
        "plt.xlabel(\"Monthly Rate (Shekels)\");"
      ],
      "metadata": {
        "id": "I5c_35_Sw5Iv"
      },
      "execution_count": null,
      "outputs": []
    },
    {
      "cell_type": "code",
      "source": [
        "# @title Solution 2\n",
        "rent_df[\"monthlyRate\"].hist(bins=30, figsize=(8,6))\n",
        "plt.xlabel(\"Monthly Rate (Shekels)\");\n"
      ],
      "metadata": {
        "id": "bpkEC5NCrZHs"
      },
      "execution_count": null,
      "outputs": []
    },
    {
      "cell_type": "markdown",
      "source": [
        "<br><br><br><br><br><br><br>\n",
        "We see that the prices distribution peaks around ~3500 Shekels and that it is right skewed, as there are some very expensive apartments.\n",
        "We can also see a peak at zero which makes sense as sometimes listings do not include a price. We would want to filter those out when we analyze prices later on."
      ],
      "metadata": {
        "id": "EPk2CNv94Xou"
      }
    },
    {
      "cell_type": "markdown",
      "source": [
        "Q: Print the number of listings that have no monthly rate:\n"
      ],
      "metadata": {
        "id": "obleDlAq-bJx"
      }
    },
    {
      "cell_type": "code",
      "source": [
        "# @title Solution\n",
        "print(\"Number of apartments without a price: \", rent_df['monthlyRate'].value_counts()[0].round(3))"
      ],
      "metadata": {
        "id": "S3ZH2oENycP0"
      },
      "execution_count": null,
      "outputs": []
    },
    {
      "cell_type": "markdown",
      "source": [
        "We want to remove those listings, but we don't want to lose these entries, as we might want to know how many and what type of outliers we originally removed. So we create another dataframe that has the listings we removed and the reason for removal."
      ],
      "metadata": {
        "id": "Z7Kcv7NCtlFC"
      }
    },
    {
      "cell_type": "code",
      "source": [
        "outlier_df = pd.DataFrame(columns=rent_df.columns.to_list()+['reason']) # will save the outliers\n",
        "\n",
        "outliers = rent_df[rent_df['monthlyRate'] <= 0].reset_index(drop=True)\n",
        "outliers['reason']= \"monthlyRate <= 0\"\n",
        "outlier_df = pd.concat([outlier_df, outliers], axis=0, ignore_index=True).drop_duplicates().reset_index(drop=True)\n",
        "outlier_df.tail()"
      ],
      "metadata": {
        "collapsed": true,
        "id": "iSm_rbmAt_NR"
      },
      "execution_count": null,
      "outputs": []
    },
    {
      "cell_type": "markdown",
      "source": [
        "We will now remove those listings and save the result to a new variable `clean_df`:"
      ],
      "metadata": {
        "id": "bz4mvHYN-4dE"
      }
    },
    {
      "cell_type": "code",
      "source": [
        "clean_df = rent_df[rent_df['monthlyRate'] > 0].reset_index(drop=True)"
      ],
      "metadata": {
        "id": "xLO0pTKQxA4E"
      },
      "execution_count": null,
      "outputs": []
    },
    {
      "cell_type": "markdown",
      "source": [
        "**What is the distribution of the number of rooms?**\n",
        "\n",
        "Q: Use `sns.countplot` to compare the counts of listings with different numbers of rooms. Plot all bars in the same [color](https://matplotlib.org/stable/tutorials/colors/colors.html) of your choice.\n"
      ],
      "metadata": {
        "id": "eS73MsCmzM45"
      }
    },
    {
      "cell_type": "code",
      "source": [],
      "metadata": {
        "id": "w8Pi24E2cajj"
      },
      "execution_count": null,
      "outputs": []
    },
    {
      "cell_type": "code",
      "source": [
        "# @title Solution\n",
        "if clean_df is None:\n",
        "  print(\"Can't run until 'clean_df' is created!\")\n",
        "else:\n",
        "  sns.countplot(x='rooms', data=clean_df, color='tab:blue')\n",
        "  plt.xlabel(\"# of rooms\");"
      ],
      "metadata": {
        "id": "gSwNI4uCxOfF"
      },
      "execution_count": null,
      "outputs": []
    },
    {
      "cell_type": "markdown",
      "source": [
        "The distribution peaks at three rooms and we also see that \"half rooms\" are less common."
      ],
      "metadata": {
        "id": "k1FaE4uUzVOD"
      }
    },
    {
      "cell_type": "markdown",
      "source": [
        "**Can we see an association between apartment area and price?**"
      ],
      "metadata": {
        "id": "XLebnGGbzhMV"
      }
    },
    {
      "cell_type": "code",
      "source": [
        "if clean_df is None:\n",
        "  print(\"Can't run until 'clean_df' is created!\")\n",
        "else:\n",
        "  plt.figure(figsize=(12,8))\n",
        "  sns.scatterplot(x='area', y='monthlyRate', data=clean_df)\n",
        "  plt.ylabel(\"Monthly Rate (Shekels)\")\n",
        "  plt.xlabel(\"Area ($m^2$)\");"
      ],
      "metadata": {
        "id": "bzCTgWaA3idi"
      },
      "execution_count": null,
      "outputs": []
    },
    {
      "cell_type": "markdown",
      "source": [
        "We see clear outliers here! We know that area is measured in squared meters and it is unlikely that there are any apartments of ~1000$m^2$.\n",
        "\n",
        "Let's look at those samples to see if we can understand what happend there:"
      ],
      "metadata": {
        "id": "Guj3IIZU4-4T"
      }
    },
    {
      "cell_type": "code",
      "source": [
        "if clean_df is None:\n",
        "  print(\"Can't run until 'clean_df' is created!\")\n",
        "else:\n",
        "  display(clean_df.sort_values('area', ascending=False).head(4))"
      ],
      "metadata": {
        "id": "VFK1h7kn3vnb"
      },
      "execution_count": null,
      "outputs": []
    },
    {
      "cell_type": "markdown",
      "source": [
        "And inspect the description of one of those listings:"
      ],
      "metadata": {
        "id": "42bTQSaT_6mP"
      }
    },
    {
      "cell_type": "code",
      "source": [
        "if clean_df is None:\n",
        "  print(\"Can't run until 'clean_df' is created!\")\n",
        "else:\n",
        "  display(clean_df.at[543,'description'])"
      ],
      "metadata": {
        "id": "iEzPaPKx5V8a"
      },
      "execution_count": null,
      "outputs": []
    },
    {
      "cell_type": "markdown",
      "source": [
        "Clearly not a 1000 m^2 apartment..."
      ],
      "metadata": {
        "id": "OTz807oT_-Y6"
      }
    },
    {
      "cell_type": "markdown",
      "source": [
        "Q: Save a new dataframe named `clean_df_area_filtered` with all listings with area smaller than 800 m^2. Again, add the removed outliers to the outliers_df dataframe.\n",
        "\n",
        "Plot again the scatter of area vs. monthly rate after removing the outliers."
      ],
      "metadata": {
        "id": "-rpUdzHGADtO"
      }
    },
    {
      "cell_type": "code",
      "source": [],
      "metadata": {
        "id": "CpU9rW8xcZK9"
      },
      "execution_count": null,
      "outputs": []
    },
    {
      "cell_type": "code",
      "source": [
        "# @title Solution\n",
        "if clean_df is None:\n",
        "  print(\"Can't run until 'clean_df' is created!\")\n",
        "elif outlier_df is None:\n",
        "  print(\"Can't run until 'outlier_df' is created!\")\n",
        "else:\n",
        "  # save outliers\n",
        "  outliers = clean_df[clean_df['area'] >= 800].reset_index(drop=True)\n",
        "  outliers['reason']= \"'area' >= 800\"\n",
        "  outlier_df = pd.concat([outlier_df, outliers], axis=0, ignore_index=True).drop_duplicates().reset_index(drop=True)\n",
        "\n",
        "  # remove the outliers from the dataset\n",
        "  clean_df_area_filtered = clean_df[clean_df['area'] < 800].reset_index(drop=True)\n",
        "  plt.figure(figsize=(12,8))\n",
        "  sns.scatterplot(x='area', y='monthlyRate', data=clean_df_area_filtered)\n",
        "  plt.xlabel(\"Area ($m^2$)\")\n",
        "  plt.ylabel(\"Monthly Rate (Shekels)\");"
      ],
      "metadata": {
        "id": "iZYANv371LBs"
      },
      "execution_count": null,
      "outputs": []
    },
    {
      "cell_type": "markdown",
      "source": [
        "Again, we see some strange behavior of apartments with almost zero area but with a high monthly rate. Let's check them out:"
      ],
      "metadata": {
        "id": "-mfODqyvivOg"
      }
    },
    {
      "cell_type": "markdown",
      "source": [
        "We start with all apartments with an area between 0 to 25 $m^2$:"
      ],
      "metadata": {
        "id": "6mPOejXOfeqr"
      }
    },
    {
      "cell_type": "code",
      "source": [
        "# Show all apartments with area between 0 and 25\n",
        "clean_df_area_filtered[clean_df_area_filtered['area'].between(0,25)]"
      ],
      "metadata": {
        "id": "rov2cNSKF7m8"
      },
      "execution_count": null,
      "outputs": []
    },
    {
      "cell_type": "markdown",
      "source": [
        "Some make sense and others do not. Let's focus on the expensive ones (between 5,000 and 10,000 shekels):"
      ],
      "metadata": {
        "id": "68FS3XiVfroU"
      }
    },
    {
      "cell_type": "code",
      "source": [
        "# Show all apartments with area between 0 and 25 that also have a price between 5000 and 10000\n",
        "if clean_df_area_filtered is None:\n",
        "  print(\"Can't run until 'clean_df_area_filtered' is created!\")\n",
        "else:\n",
        "  display(clean_df_area_filtered[clean_df_area_filtered['area'].between(0,25) & clean_df_area_filtered['monthlyRate'].between(5000, 10000)])"
      ],
      "metadata": {
        "id": "EDqg4VLO6LeB"
      },
      "execution_count": null,
      "outputs": []
    },
    {
      "cell_type": "markdown",
      "source": [
        "Those are clearly wrong too...\n",
        "Besides that the relationship between the area and the price seems linear.\n",
        "Let's remove these outliers too:\n",
        "\n"
      ],
      "metadata": {
        "id": "n_ggkFzFOQYY"
      }
    },
    {
      "cell_type": "code",
      "source": [
        "#remove the outliers\n",
        "if clean_df_area_filtered is None:\n",
        "  print(\"Can't run until 'clean_df_area_filtered' is created!\")\n",
        "elif outlier_df is None:\n",
        "  print(\"Can't run until 'outlier_df' is created!\")\n",
        "else:\n",
        "  non_ouliers = clean_df_area_filtered['area'] > 10 # get non outliers series of true/false\n",
        "\n",
        "  # save outliers\n",
        "  outliers = clean_df_area_filtered[~non_ouliers].reset_index(drop=True) # get the outliers\n",
        "  outliers['reason']= \"'area' <= 10\"\n",
        "  outlier_df = pd.concat([outlier_df, outliers], axis=0, ignore_index=True).drop_duplicates().reset_index(drop=True)\n",
        "\n",
        "  # remove them\n",
        "  clean_df_area_filtered = clean_df_area_filtered[non_ouliers].reset_index(drop=True)"
      ],
      "metadata": {
        "id": "51PQkX2Zk-4w"
      },
      "execution_count": null,
      "outputs": []
    },
    {
      "cell_type": "markdown",
      "source": [
        "#### **Can we see a different pattern for top floor apartments?**\n",
        "Q: Plot again a scatter of area vs. monthly rate. This time distinguish (by color / marker style or both) between apartments that are in the top floor and the rest of the apartments. (To do that you should create a new column in `clean_df_area_filtered` called `is top floor` and set it to 1 if the apartment is in the top floor and 0 otherwise.)"
      ],
      "metadata": {
        "id": "i7anJ8Qx79J2"
      }
    },
    {
      "cell_type": "code",
      "source": [],
      "metadata": {
        "id": "U5BOryw_cg-N"
      },
      "execution_count": null,
      "outputs": []
    },
    {
      "cell_type": "code",
      "source": [
        "# @title Solution\n",
        "\n",
        "if clean_df_area_filtered is None:\n",
        "  print(\"Can't run until 'clean_df_area_filtered' is created!\")\n",
        "else:\n",
        "  clean_df_area_filtered['is top floor'] = clean_df_area_filtered['floor'] == clean_df_area_filtered['numFloors']\n",
        "  plt.figure(figsize=(8,6))\n",
        "  sns.scatterplot(x='area', y='monthlyRate', data=clean_df_area_filtered, alpha=0.8, hue='is top floor', style=\"is top floor\");\n",
        "  plt.xlabel(\"Area (m^2)\")\n",
        "  plt.ylabel(\"Monthly Rate (Shekels)\");"
      ],
      "metadata": {
        "id": "qmZiDkcE4KwV"
      },
      "execution_count": null,
      "outputs": []
    },
    {
      "cell_type": "markdown",
      "source": [
        "We can take a deeper look on the apartments with the very high monthly rate (to see if those are outliers or not):"
      ],
      "metadata": {
        "id": "_Jhh8ugQk98l"
      }
    },
    {
      "cell_type": "code",
      "source": [
        "if clean_df_area_filtered is None:\n",
        "  print(\"Can't run until 'clean_df_area_filtered' is created!\")\n",
        "else:\n",
        "  display(clean_df_area_filtered[clean_df_area_filtered['monthlyRate'] > 11000])"
      ],
      "metadata": {
        "id": "qTS0nqnXgd7t"
      },
      "execution_count": null,
      "outputs": []
    },
    {
      "cell_type": "markdown",
      "source": [
        "We can see some representation of the more expensive neighborhoods of Jerusalem here.. More on the neighborhoods later on!"
      ],
      "metadata": {
        "id": "oImnMIqLg4Az"
      }
    },
    {
      "cell_type": "markdown",
      "source": [
        "**Is there also a relation between the number of rooms and the listing price?**\n",
        "\n",
        "Q: Create a visualization that compares the distribution of prices for different number of rooms. Your visualization should provide information about central tendency (mean/median/mode) and some information about the distribution of individual values around it (standard deviation/interquartile range) for each number of rooms. Also, show the real prices of the listings per number of rooms."
      ],
      "metadata": {
        "id": "MBanyTR3XR2C"
      }
    },
    {
      "cell_type": "code",
      "source": [
        "# @title Solution\n",
        "if clean_df_area_filtered is None:\n",
        "  print(\"Can't run until 'clean_df_area_filtered' is created!\")\n",
        "else:\n",
        "  plt.figure(figsize=(10,8))\n",
        "  sns.boxplot(x='rooms', y='monthlyRate', data=clean_df_area_filtered, color='tab:blue')\n",
        "  sns.stripplot(x='rooms', y='monthlyRate', alpha=0.4 ,size=4,color='k',data=clean_df_area_filtered)\n",
        "  plt.xlabel(\"# of Rooms\")\n",
        "  plt.ylabel(\"Monthly Rate (Shekels)\");\n",
        "\n",
        "  # Or:\n",
        "  # plt.figure(figsize=(10,8))\n",
        "  # sns.barplot(x='rooms', y='monthlyRate', data=clean_df_area_filtered, color='tab:blue', errorbar=None, estimator='median')\n",
        "  # # Can also use mean but median is more informative in this case as prices are skewed...\n",
        "  # sns.stripplot(x='rooms', y='monthlyRate', alpha=0.4 ,color='k',data=clean_df_area_filtered)\n",
        "  # plt.xlabel(\"# of Rooms\")\n",
        "  # plt.ylabel(\"Monthly Rate (Shekels)\");\n",
        "\n",
        "  #Violin plot completly fails for very small subsets:\n",
        "  # plt.figure(figsize=(10,8))\n",
        "  # sns.violinplot(x='rooms', y='monthlyRate', data=clean_df_area_filtered, color='tab:blue')\n",
        "  # plt.xlabel(\"# of Rooms\")\n",
        "  # plt.ylabel(\"Monthly Rate (Shekels)\");\n"
      ],
      "metadata": {
        "id": "ms1_QXOgXRZb"
      },
      "execution_count": null,
      "outputs": []
    },
    {
      "cell_type": "markdown",
      "source": [
        "Now that we finished pre-processing the data, we can see the state of our outliers VS the data that remains:"
      ],
      "metadata": {
        "id": "UwtgcUjy3HMl"
      }
    },
    {
      "cell_type": "code",
      "source": [
        "if outlier_df is None:\n",
        "  print(\"Can't run until 'outlier_df' is created!\")\n",
        "else:\n",
        "  # describe the outlier data\n",
        "  display(outlier_df.groupby('reason').describe())\n",
        "  print(f\"Proportion removed: {100*len(outlier_df) / (len(outlier_df)+len(clean_df_area_filtered)):.0f} %\")"
      ],
      "metadata": {
        "id": "6-sOVj8x3S2m"
      },
      "execution_count": null,
      "outputs": []
    },
    {
      "cell_type": "markdown",
      "source": [
        "# Submission Exercises"
      ],
      "metadata": {
        "id": "xah9enCBHOjB"
      }
    },
    {
      "cell_type": "markdown",
      "source": [
        "## Part 1: Diving deeper into rental prices"
      ],
      "metadata": {
        "id": "8uxLZFdob7cV"
      }
    },
    {
      "cell_type": "markdown",
      "source": [
        "We will create a copy of the dataset and work on that. We want to make sure that we do not modify the original dataset."
      ],
      "metadata": {
        "id": "MBL8TIWmlttN"
      }
    },
    {
      "cell_type": "code",
      "source": [
        "# @title Part 1 - Create a DataFrame\n",
        "part1_df = rent_df_backup_for_exercise.copy()"
      ],
      "metadata": {
        "id": "4HYXpyLo-JK1"
      },
      "execution_count": null,
      "outputs": []
    },
    {
      "cell_type": "markdown",
      "source": [
        "Let's go back to the distribution of monthly rental prices in the dataset. Are there interesting trends in the distribution that we missed in the visualizations before?\n",
        "\n",
        "**Use only `part1_df` for the coding questions in this part**\n",
        "\n"
      ],
      "metadata": {
        "id": "HmVGWMsSyq7M"
      }
    },
    {
      "cell_type": "markdown",
      "source": [
        "### **Question 1**\n",
        "Plot 3 different histograms of the monthly prices with 20, 60 and 120 bins respectively, each in a different axis/figure.\n"
      ],
      "metadata": {
        "id": "aaZ6rd5mJ1fL"
      }
    },
    {
      "cell_type": "code",
      "source": [
        "# Part 1 - Question 1\n",
        "# Your code goes here:\n",
        "#\n",
        "#\n",
        "\n",
        "\n"
      ],
      "metadata": {
        "id": "wSYsMgI5dMG6"
      },
      "execution_count": null,
      "outputs": []
    },
    {
      "cell_type": "markdown",
      "source": [
        "###**Question 2**\n",
        "For 60 and 120 bins, you can see a repeating pattern of \"peaks\" and \"vallies\" in the distribution (mostly in the range between 500 and 7000). Is this pattern due to people rounding the rental prices? Please create a visualization that answers this question. Describe in words how the graph shows what the answer is (Hint: you can use the '%' operator to compute the remainder of dividing values in a pandas Series by a scalar number)."
      ],
      "metadata": {
        "id": "wD-bY6R1FIwc"
      }
    },
    {
      "cell_type": "code",
      "source": [
        "# @title **extra hint**: please open this cell only after discussing with the course staff the best solution you could come up with\n",
        "\n",
        "#\n",
        "# Plot the distribution of values of the 'monthlyRate' column modulu (%) 1000\n",
        "#"
      ],
      "metadata": {
        "cellView": "form",
        "id": "-_IoPmes_7mW"
      },
      "execution_count": null,
      "outputs": []
    },
    {
      "cell_type": "code",
      "source": [
        "# Part 1 - Question 2\n",
        "# Your code goes here:\n",
        "#\n",
        "#\n",
        "\n"
      ],
      "metadata": {
        "id": "pb99rq8HdkXB"
      },
      "execution_count": null,
      "outputs": []
    },
    {
      "cell_type": "markdown",
      "source": [
        "---\n",
        "#### Part 1 Question 2 - textual Answer:\n",
        "*Write your answer here:*\n",
        "\n",
        "---"
      ],
      "metadata": {
        "id": "AvguTw0kdWr5"
      }
    },
    {
      "cell_type": "markdown",
      "source": [
        "###**Question 3**\n",
        "We expect to see a \"drop\" in prices frequency near the 5000 Shekels mark due to tax considerations (See [here](https://www.kolzchut.org.il/he/%D7%A4%D7%98%D7%95%D7%A8_%D7%9E%D7%9E%D7%A1_%D7%A2%D7%9C_%D7%94%D7%9B%D7%A0%D7%A1%D7%94_%D7%9E%D7%94%D7%A9%D7%9B%D7%A8%D7%AA_%D7%93%D7%99%D7%A8%D7%94_%D7%9C%D7%9E%D7%92%D7%95%D7%A8%D7%99%D7%9D) for an explanation). Create a histogram visualization of the data with the smallest possible bins such that every bin will include exactly one multiplication of 500 (Hint: read the `bins` parameter documentation and what types it accepts). Explain why does this choice of bin size ensures that we will not see rounding effects. Do you see a \"drop\" around 5000 Shekels? Are there other \"drops\"?\n"
      ],
      "metadata": {
        "id": "ZTNv2qhcItyD"
      }
    },
    {
      "cell_type": "code",
      "source": [
        "# Part 1 - Question 3\n",
        "# Your code goes here:\n",
        "#\n",
        "#\n",
        "\n"
      ],
      "metadata": {
        "id": "VcC33BZMfy7O"
      },
      "execution_count": null,
      "outputs": []
    },
    {
      "cell_type": "markdown",
      "source": [
        "---\n",
        "#### Part 1 Question 3 - textual Answer:\n",
        "*Write your answer here:*\n",
        "\n",
        "---"
      ],
      "metadata": {
        "id": "aCRmXh8Zfy7P"
      }
    },
    {
      "cell_type": "markdown",
      "source": [
        "## Part 2: Size or number of rooms?"
      ],
      "metadata": {
        "id": "btSRgCwsNJNH"
      }
    },
    {
      "cell_type": "code",
      "source": [
        "# @title Part 2 - Create a DataFrame for Part 2\n",
        "\n",
        "# Create the dataframe and remove the outliers we found in the intro part:\n",
        "part2_df = rent_df_backup_for_exercise.copy()\n",
        "part2_df = part2_df[part2_df['monthlyRate'] > 0].reset_index(drop=True);\n",
        "part2_df = part2_df[part2_df['area'] < 800].reset_index(drop=True)\n",
        "part2_df = part2_df[part2_df['area'] > 10].reset_index(drop=True)"
      ],
      "metadata": {
        "id": "UbRMv00EDMWa"
      },
      "execution_count": null,
      "outputs": []
    },
    {
      "cell_type": "markdown",
      "source": [
        "We saw that both the number of rooms and the area of an apartment are strongly associated with the monthly rate. We now want to check if those are just two perspectives of the same relation (how big is the apartment) or is there something more to it. We will use the cleaned dataframe for this exercise.\n",
        "\n",
        "**Use only `part2_df` for the coding questions in this part**\n"
      ],
      "metadata": {
        "id": "XPUbbxsDii2W"
      }
    },
    {
      "cell_type": "markdown",
      "source": [
        "### **Question 1**\n",
        "Generate a visualization to show that there is a strong association between the number of rooms and the area of the apartment. Explain your choice of plot type and your conclusion from the graph.\n"
      ],
      "metadata": {
        "id": "s6pNPncLNdPV"
      }
    },
    {
      "cell_type": "code",
      "source": [
        "# Part 2 - Question 1\n",
        "# Your code goes here:\n",
        "#\n",
        "#\n",
        "\n"
      ],
      "metadata": {
        "id": "_uGGXYX3gKN7"
      },
      "execution_count": null,
      "outputs": []
    },
    {
      "cell_type": "markdown",
      "source": [
        "---\n",
        "#### Part 2 Question 1 - textual Answer:\n",
        "*Write your answer here:*\n",
        "\n",
        "---"
      ],
      "metadata": {
        "id": "TZvq59kxgKN7"
      }
    },
    {
      "cell_type": "markdown",
      "source": [
        "### **Question 2**\n",
        "Add a new column to the dataframe named `\"averageRoomSize\"` with the average room size in the given listing.\n"
      ],
      "metadata": {
        "id": "FLRpsPahZfJ4"
      }
    },
    {
      "cell_type": "code",
      "source": [
        "# Part 2 - Question 2\n",
        "# Your code goes here:\n",
        "#\n",
        "#\n",
        "\n"
      ],
      "metadata": {
        "id": "KBEhZE2SgXJc"
      },
      "execution_count": null,
      "outputs": []
    },
    {
      "cell_type": "markdown",
      "source": [
        "###**Question 3**\n",
        "Create a plot of the relation between the average room size and the monthly rate."
      ],
      "metadata": {
        "id": "MyR4RehVZm2s"
      }
    },
    {
      "cell_type": "code",
      "source": [
        "# Part 2 - Question 3\n",
        "# Your code goes here:\n",
        "#\n",
        "#\n",
        "\n"
      ],
      "metadata": {
        "id": "1_9VGiVHge9R"
      },
      "execution_count": null,
      "outputs": []
    },
    {
      "cell_type": "markdown",
      "source": [
        "### Question 4 - **bonus**\n",
        "We can see that the variance of the monthly rate increases with the average room size.\n",
        "\n",
        "Suggest what might be the reason for the increase in the variance and create a visualization to support or refute your suggestion."
      ],
      "metadata": {
        "id": "J92Zt797aSXX"
      }
    },
    {
      "cell_type": "code",
      "source": [
        "# Part 2 - Question 4\n",
        "# Your code goes here:\n",
        "#\n",
        "#\n",
        "\n"
      ],
      "metadata": {
        "id": "6nVenZ2ggjMm"
      },
      "execution_count": null,
      "outputs": []
    },
    {
      "cell_type": "markdown",
      "source": [
        "---\n",
        "#### Part 2 Question 4 - textual Answer:\n",
        "*Write your answer here:*\n",
        "\n",
        "---"
      ],
      "metadata": {
        "id": "XDcqbYBngjMm"
      }
    },
    {
      "cell_type": "markdown",
      "source": [
        "## Part 3: Neighborhoods\n",
        "\n"
      ],
      "metadata": {
        "id": "Q8_jKuDpkKwV"
      }
    },
    {
      "cell_type": "code",
      "source": [
        "# @title Part 3 - Function Definitions and DataFrame Creation\n",
        "def reverse_string(a):\n",
        "  return a[::-1]\n",
        "\n",
        "\n",
        "socialrank_df = load_df(SOCIORANK_ID)\n",
        "neighborhood_ranks = {k: v for k,v in zip(socialrank_df['neighborhood'], socialrank_df['socioEconomicRank'])}\n",
        "\n",
        "def get_neighborhood_rank(neighborhood):\n",
        "  if neighborhood in neighborhood_ranks:\n",
        "    return neighborhood_ranks[neighborhood]\n",
        "  else:\n",
        "    return None\n",
        "\n",
        "# Create the dataframe and remove the outliers we found in the intro part:\n",
        "part3_df = rent_df_backup_for_exercise.copy()\n",
        "part3_df = part3_df[part3_df['monthlyRate'] > 0].reset_index(drop=True);\n",
        "part3_df = part3_df[part3_df['area'] < 800].reset_index(drop=True)\n",
        "part3_df = part3_df[part3_df['area'] > 10].reset_index(drop=True)\n",
        "part3_df[\"neighborhood_flipped\"] = part3_df[\"neighborhood\"].apply(reverse_string) # making the neighborhood names readable"
      ],
      "metadata": {
        "id": "lMGVKeKKmUC9"
      },
      "execution_count": null,
      "outputs": []
    },
    {
      "cell_type": "markdown",
      "source": [
        "We now want to focus on the differences between different neighborhoods in Jerusalem.\n",
        "\n",
        "**Use only `part3_df` for the coding questions in this part**\n",
        "\n",
        " *Use the `\"neighborhood_flipped\"` column for visualizations as seaborn will flip the order of letters in hebrew."
      ],
      "metadata": {
        "id": "bXU-dGpBmUUz"
      }
    },
    {
      "cell_type": "markdown",
      "source": [
        "###**Question 1**\n",
        "Print the number of unique neighborhoods that appear in the dataset."
      ],
      "metadata": {
        "id": "HdaW752kPXC_"
      }
    },
    {
      "cell_type": "code",
      "source": [
        "# Part 3 - Question 1\n",
        "# Your code goes here:\n",
        "#\n",
        "#\n",
        "\n"
      ],
      "metadata": {
        "id": "uRPMFBndgucu"
      },
      "execution_count": null,
      "outputs": []
    },
    {
      "cell_type": "markdown",
      "source": [
        "###**Question 2**\n",
        "Visualize the number of listings per neighborhood in a way that will allow you to easily identify those with the highest count.\n",
        "\n",
        "\n"
      ],
      "metadata": {
        "id": "1iquI3aAdojz"
      }
    },
    {
      "cell_type": "code",
      "source": [
        "# Part 3 - Question 2\n",
        "# Your code goes here:\n",
        "#\n",
        "#\n",
        "\n"
      ],
      "metadata": {
        "id": "At0vbsbJg1hA"
      },
      "execution_count": null,
      "outputs": []
    },
    {
      "cell_type": "markdown",
      "source": [
        "###**Question 3** - Heavy-tailed distributions\n",
        "Print the number of neighborhoods with less than 5 listings and the fraction of their total number of listings out of the total number of listings. Also print the fraction of listings from the 8 most frequent neighborhoods out of the total number of listings."
      ],
      "metadata": {
        "id": "PEetzapLhp97"
      }
    },
    {
      "cell_type": "code",
      "source": [
        "# Part 3 - Question 3\n",
        "# Your code goes here:\n",
        "#\n",
        "#\n",
        "\n"
      ],
      "metadata": {
        "id": "mPfOzJ82g9yM"
      },
      "execution_count": null,
      "outputs": []
    },
    {
      "cell_type": "markdown",
      "source": [
        "Those types of distributions where there are many categories that appear only a few times but together take a large portion of the distribution are called heavy-tailed (or long-tailed) distributions. This is a real issue in many data science applications, since even if we have a large dataset there are still some sub-populations or sub-categories that are not well represented."
      ],
      "metadata": {
        "id": "2qoi9OhUiPJX"
      }
    },
    {
      "cell_type": "markdown",
      "source": [
        "###**Question 4**\n",
        "Create a new filtered dataframe with listings from only the 8 most frequent neighborhoods."
      ],
      "metadata": {
        "id": "7V2I3wzcjfP2"
      }
    },
    {
      "cell_type": "code",
      "source": [
        "# Part 3 - Question 4\n",
        "# Your code goes here:\n",
        "#\n",
        "#\n",
        "\n"
      ],
      "metadata": {
        "id": "2fDfWKx2hEfs"
      },
      "execution_count": null,
      "outputs": []
    },
    {
      "cell_type": "markdown",
      "source": [
        "###**Question 5**\n",
        "Plot a graph to check whether there are different distributions of monthly rates in the eight neighborhoods. Explain your choice for the visualization and your conclusions.\n",
        "Note: Make sure that the neighborhoods are ordered in the plot based on their tendency for higher or lower monthly rates.\n",
        "\n",
        "Hint: Which is a better descriptor of the central tendency of monthly rates when the distributions are skewed?"
      ],
      "metadata": {
        "id": "uQ72zVRBkX5N"
      }
    },
    {
      "cell_type": "code",
      "source": [
        "# Part 3 - Question 5\n",
        "# Your code goes here:\n",
        "#\n",
        "#\n",
        "\n"
      ],
      "metadata": {
        "id": "itkDWzIfhOTQ"
      },
      "execution_count": null,
      "outputs": []
    },
    {
      "cell_type": "markdown",
      "source": [
        "---\n",
        "#### Part 3 Question 5 - textual Answer:\n",
        "*Write your answer here:*\n",
        "\n",
        "---"
      ],
      "metadata": {
        "id": "iBrNyOZ7hOTQ"
      }
    },
    {
      "cell_type": "markdown",
      "source": [
        "### **Question 6**\n",
        "Now that we compared the different distributions of monthly rates betwen neighborhoods, we can check whether we can explain some of the differences using our common-sense and the data we already have.\n",
        "For example, perhaps different neighborhoods have different distributions of apartment sizes?\n",
        "\n",
        "Think of a new variable that will allow you to check the relationship between neighborhoods and prices fairly, factoring different apartment sizes out of the equation. Save this measure into the dataframe and create a new visualization to answer the question.\n"
      ],
      "metadata": {
        "id": "Bq6AUEusd658"
      }
    },
    {
      "cell_type": "code",
      "source": [
        "# Part 3 - Question 6\n",
        "# Your code goes here:\n",
        "#\n",
        "#\n",
        "\n"
      ],
      "metadata": {
        "id": "1lNkHxzrhjH7"
      },
      "execution_count": null,
      "outputs": []
    },
    {
      "cell_type": "markdown",
      "source": [
        "---\n",
        "#### Part 3 Question 6 - textual Answer:\n",
        "*Write your answer here:*\n",
        "\n",
        "---"
      ],
      "metadata": {
        "id": "IbYxmwBchjH7"
      }
    },
    {
      "cell_type": "markdown",
      "source": [
        "Given the conclusions from the previous steps, we may think that the apartment's neighborhood gives us additional information about the expected monthly rate. But the sample size for most neighborhoods is rather small. So let's examine another way to utilize the location information. Luckily, we also have data about the socio-economic rank of most neighborhoods (between 1 and 10)."
      ],
      "metadata": {
        "id": "DKN7CSNunTdJ"
      }
    },
    {
      "cell_type": "markdown",
      "source": [
        "### Question 7 - **bonus**\n",
        "Use again the full dataset (without filtering by neighborhood).\n",
        "\n",
        "Create an aggregated dataframe where every record represents a neighborhood, with columns for:\n",
        "1. neighborhood name\n",
        "2. flipped neighborhood name\n",
        "3. The number of listings in a neighborhood\n",
        "4. The median monthly rate for listings in this neighborhood.\n",
        "\n",
        "Add a column with the neighborhood socio-economic rank to the dataframe (you can use the provided `get_neighborhood_rank` function that takes as an input a neighborhood name and returns its socio-economic rank.) Use this dataframe to visualize the association between socio-economic rank and pricing for all neighborhoods with at least 5 listings. What is you conclusion?"
      ],
      "metadata": {
        "id": "A8HuSW3rU4s1"
      }
    },
    {
      "cell_type": "code",
      "source": [
        "# Part 3 - Question 7\n",
        "# Your code goes here:\n",
        "#\n",
        "#\n",
        "\n"
      ],
      "metadata": {
        "id": "MI5_lefphow0"
      },
      "execution_count": null,
      "outputs": []
    },
    {
      "cell_type": "markdown",
      "source": [
        "---\n",
        "#### Part 3 Question 7 - textual Answer:\n",
        "*Write your answer here:*\n",
        "\n",
        "---"
      ],
      "metadata": {
        "id": "9nyJk-X7how1"
      }
    },
    {
      "cell_type": "markdown",
      "source": [
        "## Part 4: Are private houses more expensive than apartments?"
      ],
      "metadata": {
        "id": "0yy1T_z0Wtb6"
      }
    },
    {
      "cell_type": "code",
      "source": [
        "# @title Part 4 - Create a DataFrame and remove outliers for Part 4\n",
        "part4_df = rent_df_backup_for_exercise.copy()\n",
        "part4_df = part4_df[part4_df['monthlyRate'] > 0].reset_index(drop=True);\n",
        "part4_df = part4_df[part4_df['area'] < 800].reset_index(drop=True)\n",
        "part4_df = part4_df[part4_df['area'] > 10].reset_index(drop=True)"
      ],
      "metadata": {
        "id": "fYmCI4vxuMd0"
      },
      "execution_count": null,
      "outputs": []
    },
    {
      "cell_type": "markdown",
      "source": [
        "Finally, we want to check if listings in private houses tend to be more expensive than apartments in a building.\n",
        "\n",
        "**Use only `part4_df` for the coding questions in this part**"
      ],
      "metadata": {
        "id": "TVx92TtmeIdU"
      }
    },
    {
      "cell_type": "markdown",
      "source": [
        "### **Question 1**\n",
        "The current dataset doesn't include a variable that describes whether a listing is in a building or a private house but this can be inferred from the existing variables. Create a new column named \"is_a_house\" with value of `True` if a listing is in the first (or zero) floor in a building with only one floor. Print the number of private houses and print the descriptions of three random listings with 'is_a_house' equal to `True`."
      ],
      "metadata": {
        "id": "zQcJup7QW20Z"
      }
    },
    {
      "cell_type": "code",
      "source": [
        "# Part 4 - Question 1\n",
        "# Your code goes here:\n",
        "#\n",
        "#\n",
        "\n"
      ],
      "metadata": {
        "id": "rPyStgluh0Rl"
      },
      "execution_count": null,
      "outputs": []
    },
    {
      "cell_type": "markdown",
      "source": [
        "### **Question 2**\n",
        "Create a visualization that compares the **average** monthly rates in houses vs. apartments. Which are more expensive on average?"
      ],
      "metadata": {
        "id": "ftUOXmvpfVvu"
      }
    },
    {
      "cell_type": "code",
      "source": [
        "# Part 4 - Question 2\n",
        "# Your code goes here:\n",
        "#\n",
        "#\n",
        "\n"
      ],
      "metadata": {
        "id": "0A8Fj0pRh-S-"
      },
      "execution_count": null,
      "outputs": []
    },
    {
      "cell_type": "markdown",
      "source": [
        "---\n",
        "#### Part 4 Question 2 - textual Answer:\n",
        "*Write your answer here:*\n",
        "\n",
        "---"
      ],
      "metadata": {
        "id": "mWSd8KBJh-S-"
      }
    },
    {
      "cell_type": "markdown",
      "source": [
        "###**Question 3**  \n",
        "Now, let's look at the data in a higher resolution. Create a visualization that compares the average monthly rates of houses vs. apartments separetly for any number of rooms. Do the results align with the results from the previous question?"
      ],
      "metadata": {
        "id": "RSHiY4z8fx6l"
      }
    },
    {
      "cell_type": "code",
      "source": [
        "# Part 4 - Question 3\n",
        "# Your code goes here:\n",
        "#\n",
        "#\n",
        "\n"
      ],
      "metadata": {
        "id": "rbas9wwXiE3o"
      },
      "execution_count": null,
      "outputs": []
    },
    {
      "cell_type": "markdown",
      "source": [
        "---\n",
        "#### Part 4 Question 3 - textual Answer:\n",
        "*Write your answer here:*\n",
        "\n",
        "---"
      ],
      "metadata": {
        "id": "6dxGHGFmiE3o"
      }
    },
    {
      "cell_type": "markdown",
      "source": [
        "### **Question 4**\n",
        "Dan saw those visualizations and suggested that the trend in **question 2** is due to the fact that apartments in this dataset have larger maximal number of rooms than houses.\n",
        "\n",
        "Create a new visualization similar to **question 2**, but consider only apartment listings with a number of rooms less or equal to the maximal number of rooms for a private house listing. Does the result now align with the trend in **question 3**? If not, is the discrapancy smaller than before?"
      ],
      "metadata": {
        "id": "b8Na_Qm4gPzQ"
      }
    },
    {
      "cell_type": "code",
      "source": [
        "# Part 4 - Question 4\n",
        "# Your code goes here:\n",
        "#\n",
        "#\n",
        "\n"
      ],
      "metadata": {
        "id": "24Ol4-hQis59"
      },
      "execution_count": null,
      "outputs": []
    },
    {
      "cell_type": "markdown",
      "source": [
        "---\n",
        "#### Part 4 Question 4 - textual Answer:\n",
        "*Write your answer here:*\n",
        "\n",
        "---"
      ],
      "metadata": {
        "id": "bhyUFWYbis5-"
      }
    },
    {
      "cell_type": "markdown",
      "source": [
        "###**Question 5**\n",
        "Create a visualization that compares the proportion of listings with every value of \"number of rooms\" in each of the two groups (is_a_house == True and is_a_house == False). How can the results here explain the discrapancy between the results of **question 2** and **question 3**? (Hint: recall the UC Berkeley admission rates example from the first lecture)"
      ],
      "metadata": {
        "id": "oLtazauNhJQT"
      }
    },
    {
      "cell_type": "code",
      "source": [
        "# Part 4 - Question 5\n",
        "# Your code goes here:\n",
        "#\n",
        "#\n",
        "\n"
      ],
      "metadata": {
        "id": "1GglmZypizg6"
      },
      "execution_count": null,
      "outputs": []
    },
    {
      "cell_type": "markdown",
      "source": [
        "---\n",
        "#### Part 4 Question 5 - textual Answer:\n",
        "*Write your answer here:*\n",
        "\n",
        "---"
      ],
      "metadata": {
        "id": "s-_XccKYizg6"
      }
    }
  ]
}